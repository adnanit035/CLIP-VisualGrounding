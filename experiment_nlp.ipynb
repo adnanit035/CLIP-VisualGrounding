{
 "cells": [
  {
   "cell_type": "code",
   "execution_count": 1,
   "outputs": [
    {
     "name": "stderr",
     "output_type": "stream",
     "text": [
      "C:\\Users\\adnan\\anaconda3\\envs\\DeepLearning-Project-venv\\lib\\site-packages\\spacy\\displacy\\__init__.py:106: UserWarning: [W011] It looks like you're calling displacy.serve from within a Jupyter notebook or a similar environment. This likely means you're already running a local web server, so there's no need to make displaCy start another one. Instead, you should be able to replace displacy.serve with displacy.render to show the visualization.\n",
      "  warnings.warn(Warnings.W011)\n"
     ]
    },
    {
     "data": {
      "text/plain": "<IPython.core.display.HTML object>",
      "text/html": "<span class=\"tex2jax_ignore\"><!DOCTYPE html>\n<html lang=\"en\">\n    <head>\n        <title>displaCy</title>\n    </head>\n\n    <body style=\"font-size: 16px; font-family: -apple-system, BlinkMacSystemFont, 'Segoe UI', Helvetica, Arial, sans-serif, 'Apple Color Emoji', 'Segoe UI Emoji', 'Segoe UI Symbol'; padding: 4rem 2rem; direction: ltr\">\n<figure style=\"margin-bottom: 6rem\">\n<svg xmlns=\"http://www.w3.org/2000/svg\" xmlns:xlink=\"http://www.w3.org/1999/xlink\" xml:lang=\"en\" id=\"7ea78fdbb95a4198b3a9772d22e029b4-0\" class=\"displacy\" width=\"1450\" height=\"399.5\" direction=\"ltr\" style=\"max-width: none; height: 399.5px; color: #000000; background: #ffffff; font-family: Arial; direction: ltr\">\n<text class=\"displacy-token\" fill=\"currentColor\" text-anchor=\"middle\" y=\"309.5\">\n    <tspan class=\"displacy-word\" fill=\"currentColor\" x=\"50\">There</tspan>\n    <tspan class=\"displacy-tag\" dy=\"2em\" fill=\"currentColor\" x=\"50\">PRON</tspan>\n</text>\n\n<text class=\"displacy-token\" fill=\"currentColor\" text-anchor=\"middle\" y=\"309.5\">\n    <tspan class=\"displacy-word\" fill=\"currentColor\" x=\"225\">is</tspan>\n    <tspan class=\"displacy-tag\" dy=\"2em\" fill=\"currentColor\" x=\"225\">VERB</tspan>\n</text>\n\n<text class=\"displacy-token\" fill=\"currentColor\" text-anchor=\"middle\" y=\"309.5\">\n    <tspan class=\"displacy-word\" fill=\"currentColor\" x=\"400\">a</tspan>\n    <tspan class=\"displacy-tag\" dy=\"2em\" fill=\"currentColor\" x=\"400\">DET</tspan>\n</text>\n\n<text class=\"displacy-token\" fill=\"currentColor\" text-anchor=\"middle\" y=\"309.5\">\n    <tspan class=\"displacy-word\" fill=\"currentColor\" x=\"575\">person</tspan>\n    <tspan class=\"displacy-tag\" dy=\"2em\" fill=\"currentColor\" x=\"575\">NOUN</tspan>\n</text>\n\n<text class=\"displacy-token\" fill=\"currentColor\" text-anchor=\"middle\" y=\"309.5\">\n    <tspan class=\"displacy-word\" fill=\"currentColor\" x=\"750\">in</tspan>\n    <tspan class=\"displacy-tag\" dy=\"2em\" fill=\"currentColor\" x=\"750\">ADP</tspan>\n</text>\n\n<text class=\"displacy-token\" fill=\"currentColor\" text-anchor=\"middle\" y=\"309.5\">\n    <tspan class=\"displacy-word\" fill=\"currentColor\" x=\"925\">a</tspan>\n    <tspan class=\"displacy-tag\" dy=\"2em\" fill=\"currentColor\" x=\"925\">DET</tspan>\n</text>\n\n<text class=\"displacy-token\" fill=\"currentColor\" text-anchor=\"middle\" y=\"309.5\">\n    <tspan class=\"displacy-word\" fill=\"currentColor\" x=\"1100\">yellow</tspan>\n    <tspan class=\"displacy-tag\" dy=\"2em\" fill=\"currentColor\" x=\"1100\">ADJ</tspan>\n</text>\n\n<text class=\"displacy-token\" fill=\"currentColor\" text-anchor=\"middle\" y=\"309.5\">\n    <tspan class=\"displacy-word\" fill=\"currentColor\" x=\"1275\">coat.</tspan>\n    <tspan class=\"displacy-tag\" dy=\"2em\" fill=\"currentColor\" x=\"1275\">NOUN</tspan>\n</text>\n\n<g class=\"displacy-arrow\">\n    <path class=\"displacy-arc\" id=\"arrow-7ea78fdbb95a4198b3a9772d22e029b4-0-0\" stroke-width=\"2px\" d=\"M70,264.5 C70,177.0 215.0,177.0 215.0,264.5\" fill=\"none\" stroke=\"currentColor\"/>\n    <text dy=\"1.25em\" style=\"font-size: 0.8em; letter-spacing: 1px\">\n        <textPath xlink:href=\"#arrow-7ea78fdbb95a4198b3a9772d22e029b4-0-0\" class=\"displacy-label\" startOffset=\"50%\" side=\"left\" fill=\"currentColor\" text-anchor=\"middle\">expl</textPath>\n    </text>\n    <path class=\"displacy-arrowhead\" d=\"M70,266.5 L62,254.5 78,254.5\" fill=\"currentColor\"/>\n</g>\n\n<g class=\"displacy-arrow\">\n    <path class=\"displacy-arc\" id=\"arrow-7ea78fdbb95a4198b3a9772d22e029b4-0-1\" stroke-width=\"2px\" d=\"M420,264.5 C420,177.0 565.0,177.0 565.0,264.5\" fill=\"none\" stroke=\"currentColor\"/>\n    <text dy=\"1.25em\" style=\"font-size: 0.8em; letter-spacing: 1px\">\n        <textPath xlink:href=\"#arrow-7ea78fdbb95a4198b3a9772d22e029b4-0-1\" class=\"displacy-label\" startOffset=\"50%\" side=\"left\" fill=\"currentColor\" text-anchor=\"middle\">det</textPath>\n    </text>\n    <path class=\"displacy-arrowhead\" d=\"M420,266.5 L412,254.5 428,254.5\" fill=\"currentColor\"/>\n</g>\n\n<g class=\"displacy-arrow\">\n    <path class=\"displacy-arc\" id=\"arrow-7ea78fdbb95a4198b3a9772d22e029b4-0-2\" stroke-width=\"2px\" d=\"M245,264.5 C245,89.5 570.0,89.5 570.0,264.5\" fill=\"none\" stroke=\"currentColor\"/>\n    <text dy=\"1.25em\" style=\"font-size: 0.8em; letter-spacing: 1px\">\n        <textPath xlink:href=\"#arrow-7ea78fdbb95a4198b3a9772d22e029b4-0-2\" class=\"displacy-label\" startOffset=\"50%\" side=\"left\" fill=\"currentColor\" text-anchor=\"middle\">attr</textPath>\n    </text>\n    <path class=\"displacy-arrowhead\" d=\"M570.0,266.5 L578.0,254.5 562.0,254.5\" fill=\"currentColor\"/>\n</g>\n\n<g class=\"displacy-arrow\">\n    <path class=\"displacy-arc\" id=\"arrow-7ea78fdbb95a4198b3a9772d22e029b4-0-3\" stroke-width=\"2px\" d=\"M595,264.5 C595,177.0 740.0,177.0 740.0,264.5\" fill=\"none\" stroke=\"currentColor\"/>\n    <text dy=\"1.25em\" style=\"font-size: 0.8em; letter-spacing: 1px\">\n        <textPath xlink:href=\"#arrow-7ea78fdbb95a4198b3a9772d22e029b4-0-3\" class=\"displacy-label\" startOffset=\"50%\" side=\"left\" fill=\"currentColor\" text-anchor=\"middle\">prep</textPath>\n    </text>\n    <path class=\"displacy-arrowhead\" d=\"M740.0,266.5 L748.0,254.5 732.0,254.5\" fill=\"currentColor\"/>\n</g>\n\n<g class=\"displacy-arrow\">\n    <path class=\"displacy-arc\" id=\"arrow-7ea78fdbb95a4198b3a9772d22e029b4-0-4\" stroke-width=\"2px\" d=\"M945,264.5 C945,89.5 1270.0,89.5 1270.0,264.5\" fill=\"none\" stroke=\"currentColor\"/>\n    <text dy=\"1.25em\" style=\"font-size: 0.8em; letter-spacing: 1px\">\n        <textPath xlink:href=\"#arrow-7ea78fdbb95a4198b3a9772d22e029b4-0-4\" class=\"displacy-label\" startOffset=\"50%\" side=\"left\" fill=\"currentColor\" text-anchor=\"middle\">det</textPath>\n    </text>\n    <path class=\"displacy-arrowhead\" d=\"M945,266.5 L937,254.5 953,254.5\" fill=\"currentColor\"/>\n</g>\n\n<g class=\"displacy-arrow\">\n    <path class=\"displacy-arc\" id=\"arrow-7ea78fdbb95a4198b3a9772d22e029b4-0-5\" stroke-width=\"2px\" d=\"M1120,264.5 C1120,177.0 1265.0,177.0 1265.0,264.5\" fill=\"none\" stroke=\"currentColor\"/>\n    <text dy=\"1.25em\" style=\"font-size: 0.8em; letter-spacing: 1px\">\n        <textPath xlink:href=\"#arrow-7ea78fdbb95a4198b3a9772d22e029b4-0-5\" class=\"displacy-label\" startOffset=\"50%\" side=\"left\" fill=\"currentColor\" text-anchor=\"middle\">amod</textPath>\n    </text>\n    <path class=\"displacy-arrowhead\" d=\"M1120,266.5 L1112,254.5 1128,254.5\" fill=\"currentColor\"/>\n</g>\n\n<g class=\"displacy-arrow\">\n    <path class=\"displacy-arc\" id=\"arrow-7ea78fdbb95a4198b3a9772d22e029b4-0-6\" stroke-width=\"2px\" d=\"M770,264.5 C770,2.0 1275.0,2.0 1275.0,264.5\" fill=\"none\" stroke=\"currentColor\"/>\n    <text dy=\"1.25em\" style=\"font-size: 0.8em; letter-spacing: 1px\">\n        <textPath xlink:href=\"#arrow-7ea78fdbb95a4198b3a9772d22e029b4-0-6\" class=\"displacy-label\" startOffset=\"50%\" side=\"left\" fill=\"currentColor\" text-anchor=\"middle\">pobj</textPath>\n    </text>\n    <path class=\"displacy-arrowhead\" d=\"M1275.0,266.5 L1283.0,254.5 1267.0,254.5\" fill=\"currentColor\"/>\n</g>\n</svg>\n</figure>\n</body>\n</html></span>"
     },
     "metadata": {},
     "output_type": "display_data"
    },
    {
     "name": "stdout",
     "output_type": "stream",
     "text": [
      "\n",
      "Using the 'dep' visualizer\n",
      "Serving on http://0.0.0.0:5000 ...\n",
      "Shutting down server on port 5000.\n"
     ]
    }
   ],
   "source": [
    "from spacy import displacy\n",
    "import spacy\n",
    "\n",
    "nlp = spacy.load(\"en_core_web_sm\")\n",
    "\n",
    "sentence = \"There is a person in a yellow coat.\"\n",
    "\n",
    "doc = nlp(sentence)\n",
    "displacy.serve(doc, style=\"dep\")"
   ],
   "metadata": {
    "collapsed": false,
    "ExecuteTime": {
     "end_time": "2023-08-30T10:09:58.278190300Z",
     "start_time": "2023-08-30T10:08:46.144338300Z"
    }
   },
   "id": "160bda567c58bb8"
  },
  {
   "cell_type": "code",
   "execution_count": 2,
   "outputs": [],
   "source": [
    "import spacy\n",
    "import clip\n",
    "import torch\n",
    "\n",
    "# Load the model\n",
    "device = \"cuda\" if torch.cuda.is_available() else \"cpu\"\n",
    "model, _ = clip.load(\"ViT-B/32\", device=device)\n",
    "\n",
    "# Initialize spacy\n",
    "nlp = spacy.load(\"en_core_web_sm\")"
   ],
   "metadata": {
    "collapsed": false,
    "ExecuteTime": {
     "end_time": "2023-08-30T10:10:05.855777600Z",
     "start_time": "2023-08-30T10:09:58.281192Z"
    }
   },
   "id": "3b13668e19b2f672"
  },
  {
   "cell_type": "code",
   "execution_count": 88,
   "outputs": [],
   "source": [
    "# Preprocessing function\n",
    "def remove_of(sent):\n",
    "    \"\"\"\n",
    "    Removes any \"of\" phrases from the sentence to improve entity extraction\n",
    "    :param sent: The sentence to remove \"of\" phrases from\n",
    "    :return: The sentence with \"of\" phrases removed\n",
    "    \"\"\"\n",
    "    # Remove any \"of\" phrases from the sentence to improve entity extraction\n",
    "    of_phrases = [\n",
    "        \"the side of\", \"the handle of\", \"the bunch of\", \"the corner of\",\n",
    "        \"the top of\", \"the bottom of\", \"the front of\", \"the back of\",\n",
    "        \"the edge of\", \"the middle of\", \"the end of\", \"the tip of\",\n",
    "        \"the base of\", \"the center of\", \"the surface of\", \"the middle of\",\n",
    "        \"the left of\", \"the right of\", \"the rear of\", \"the rim of\"\n",
    "    ]\n",
    "    \n",
    "    for phrase in of_phrases:\n",
    "        if phrase in sent:\n",
    "            index = sent.find(phrase)\n",
    "            sent = sent[index + len(phrase):]\n",
    "            return sent.strip()  # Stripping any leading or trailing whitespace\n",
    "    return sent\n",
    "\n",
    "# Extract root or subject\n",
    "def get_root_or_subject(sent):\n",
    "    \"\"\"\n",
    "    Extracts the root or subject of a sentence\n",
    "    :param sent: The sentence to extract the root or subject from\n",
    "    :return: The root or subject of the sentence\n",
    "    \"\"\"\n",
    "    sent = sent.lower()\n",
    "    \n",
    "    starting_phrases = [\n",
    "        \"there is\", \"this is\", \"there are\", \"these are\", \"it is\", \"there's\", \"there're\", \"it's\", \"this's\"\n",
    "    ]\n",
    "    \n",
    "    # Remove the starting phrase from the sentence if it exists\n",
    "    for phrase in starting_phrases:\n",
    "        if sent.startswith(phrase):\n",
    "            sent = sent[len(phrase):]\n",
    "            break\n",
    "            \n",
    "    article_phrases = [\n",
    "        \"a \", \"an \", \"the \"\n",
    "    ]\n",
    "    \n",
    "    # Remove any articles from the sentence to improve entity extraction\n",
    "    for phrase in article_phrases:\n",
    "        if sent.startswith(phrase):\n",
    "            sent = sent[len(phrase):]\n",
    "            break\n",
    "            \n",
    "    # Remove any \"of\" phrases from the sentence to improve entity extraction\n",
    "    sent = remove_of(sent)\n",
    "    \n",
    "    # Extract the root or subject of the sentence\n",
    "    doc = nlp(sent)\n",
    "    for token in doc:\n",
    "        # Check for nominal subjects\n",
    "        if token.dep_ in [\"nsubj\", \"nsubjpass\"]:\n",
    "            return token.text\n",
    "        \n",
    "    # If no nominal subject, return the root of the sentence\n",
    "    return [token.text for token in doc if token.dep_ == \"ROOT\"]\n",
    "    \n",
    "\n",
    "def get_clip_embedding_for_text(text):\n",
    "    text = clip.tokenize([text]).to(device)\n",
    "    with torch.no_grad():\n",
    "        text_features = model.encode_text(text)\n",
    "        text_features /= text_features.norm(dim=-1, keepdim=True)\n",
    "    return text_features\n",
    "\n",
    "def compute_similarity(text1, text2):\n",
    "    text1_embedding = get_clip_embedding_for_text(text1)\n",
    "    text2_embedding = get_clip_embedding_for_text(text2)\n",
    "    similarity = (text1_embedding @ text2_embedding.T).squeeze().item()\n",
    "    return similarity"
   ],
   "metadata": {
    "collapsed": false,
    "ExecuteTime": {
     "end_time": "2023-08-30T15:44:49.834898Z",
     "start_time": "2023-08-30T15:44:49.812900500Z"
    }
   },
   "id": "4157191a599fc74e"
  },
  {
   "cell_type": "code",
   "execution_count": 89,
   "outputs": [],
   "source": [
    "def extract_entities(sentence):\n",
    "    doc = nlp(sentence)\n",
    "    entities = [ent.text for ent in doc.ents] + [noun_chunk.text for noun_chunk in doc.noun_chunks]\n",
    "    return entities"
   ],
   "metadata": {
    "collapsed": false,
    "ExecuteTime": {
     "end_time": "2023-08-30T15:45:06.339009400Z",
     "start_time": "2023-08-30T15:45:06.325009700Z"
    }
   },
   "id": "f315f51729e33970"
  },
  {
   "cell_type": "code",
   "execution_count": 114,
   "outputs": [
    {
     "name": "stderr",
     "output_type": "stream",
     "text": [
      "Using cache found in C:\\Users\\adnan/.cache\\torch\\hub\\ultralytics_yolov5_master\n",
      "YOLOv5  2023-8-20 Python-3.9.16 torch-2.1.0.dev20230609+cu121 CUDA:0 (NVIDIA GeForce GTX 1660 Ti, 6144MiB)\n",
      "\n",
      "Fusing layers... \n",
      "YOLOv5s summary: 213 layers, 7225885 parameters, 0 gradients\n",
      "Adding AutoShape... \n"
     ]
    },
    {
     "name": "stdout",
     "output_type": "stream",
     "text": [
      "Classes: {0: 'person', 1: 'bicycle', 2: 'car', 3: 'motorcycle', 4: 'airplane', 5: 'bus', 6: 'train', 7: 'truck', 8: 'boat', 9: 'traffic light', 10: 'fire hydrant', 11: 'stop sign', 12: 'parking meter', 13: 'bench', 14: 'bird', 15: 'cat', 16: 'dog', 17: 'horse', 18: 'sheep', 19: 'cow', 20: 'elephant', 21: 'bear', 22: 'zebra', 23: 'giraffe', 24: 'backpack', 25: 'umbrella', 26: 'handbag', 27: 'tie', 28: 'suitcase', 29: 'frisbee', 30: 'skis', 31: 'snowboard', 32: 'sports ball', 33: 'kite', 34: 'baseball bat', 35: 'baseball glove', 36: 'skateboard', 37: 'surfboard', 38: 'tennis racket', 39: 'bottle', 40: 'wine glass', 41: 'cup', 42: 'fork', 43: 'knife', 44: 'spoon', 45: 'bowl', 46: 'banana', 47: 'apple', 48: 'sandwich', 49: 'orange', 50: 'broccoli', 51: 'carrot', 52: 'hot dog', 53: 'pizza', 54: 'donut', 55: 'cake', 56: 'chair', 57: 'couch', 58: 'potted plant', 59: 'bed', 60: 'dining table', 61: 'toilet', 62: 'tv', 63: 'laptop', 64: 'mouse', 65: 'remote', 66: 'keyboard', 67: 'cell phone', 68: 'microwave', 69: 'oven', 70: 'toaster', 71: 'sink', 72: 'refrigerator', 73: 'book', 74: 'clock', 75: 'vase', 76: 'scissors', 77: 'teddy bear', 78: 'hair drier', 79: 'toothbrush'}\n"
     ]
    }
   ],
   "source": [
    "# implement a function to detect the objects using YOLObv8\n",
    "from ultralytics import YOLO\n",
    "import torch\n",
    "from PIL import Image\n",
    "import matplotlib.pyplot as plt\n",
    "import numpy as np\n",
    "import os\n",
    "import clip\n",
    "\n",
    "\n",
    "device = \"cuda\" if torch.cuda.is_available() else \"cpu\"\n",
    "\n",
    "\n",
    "# Load the model\n",
    "# yolo_model = YOLO(\"yolov5s.pt\").to(device)\n",
    "yolo_model = torch.hub.load('ultralytics/yolov5', 'yolov5s', pretrained=True).to(device)\n",
    "yolo_model.conf = 0.7\n",
    "yolo_model.iou = 0.45\n",
    "CLASSES = yolo_model.names\n",
    "print(\"Classes:\", CLASSES)\n",
    "\n",
    "clip_model, clip_preprocess = clip.load(\"ViT-B/32\", device=device)"
   ],
   "metadata": {
    "collapsed": false,
    "ExecuteTime": {
     "end_time": "2023-08-30T15:53:51.844034700Z",
     "start_time": "2023-08-30T15:53:47.924128500Z"
    }
   },
   "id": "50d5a0783e30e03b"
  },
  {
   "cell_type": "code",
   "execution_count": 162,
   "outputs": [],
   "source": [
    "def filter_detector_predictions(detector_results, subject_enr):\n",
    "    \"\"\"\n",
    "    Filters the detector results by the subject/entities\n",
    "    :param detector_results: bbox, classes, scores\n",
    "    :param subject_enr: list of subjects or entities to filter the yolo detections by calculating similarity (text-to-text)\n",
    "    :return: filtered results (bbox, classes, scores)\n",
    "    \"\"\"\n",
    "    predictions_with_sim_scores = list()\n",
    "    for bbox, cls, score in zip(*detector_results):\n",
    "        # calculate the similarity between the subject and each class or entity\n",
    "        for enr in subject_enr:\n",
    "            sim_score = compute_similarity(enr, \"this is a \" + cls)\n",
    "            predictions_with_sim_scores.append((bbox, cls, score, sim_score))\n",
    "            \n",
    "    # sort the predictions by the similarity score\n",
    "    predictions_with_sim_scores.sort(key=lambda x: x[-1], reverse=True)\n",
    "    print(predictions_with_sim_scores)\n",
    "    # return prediction with the highest similarity score\n",
    "    return predictions_with_sim_scores[0]\n",
    "    "
   ],
   "metadata": {
    "collapsed": false,
    "ExecuteTime": {
     "end_time": "2023-08-30T16:34:51.112391300Z",
     "start_time": "2023-08-30T16:34:51.094392Z"
    }
   },
   "id": "8d6e22902d13bbec"
  },
  {
   "cell_type": "code",
   "execution_count": 163,
   "outputs": [],
   "source": [
    "def detect_objects(image_path):\n",
    "    \"\"\"\n",
    "    Detects objects in an image using YOLOv5\n",
    "    :param image_path: The path to the image to detect objects in\n",
    "    :return: A tuple of lists of predicted classes, boxes, and scores\n",
    "    \"\"\"\n",
    "    # Run the YOLOv8 model\n",
    "    yolo_detections = yolo_model(image_path)\n",
    "    \n",
    "    predicted_boxes = yolo_detections.xyxy[0].cpu().numpy().tolist()\n",
    "    predicted_classes = [CLASSES[boxes[-1]] for boxes in predicted_boxes]\n",
    "    predicted_scores = [boxes[-2] for boxes in predicted_boxes]\n",
    "    \n",
    "    return predicted_boxes, predicted_classes, predicted_scores"
   ],
   "metadata": {
    "collapsed": false,
    "ExecuteTime": {
     "end_time": "2023-08-30T16:34:51.534788300Z",
     "start_time": "2023-08-30T16:34:51.523788900Z"
    }
   },
   "id": "295b63fa64e1cdb5"
  },
  {
   "cell_type": "code",
   "execution_count": 164,
   "outputs": [],
   "source": [
    "img_path = r\"D:\\Study\\Trento University Study\\Samester-2\\Deep Learning\\DL\\DL Project\\dataset\\refcocog\\images\\COCO_train2014_000000374391.jpg\"\n",
    "sentence = \"A WITHOUT HAIRY BROWN COLOR TEDDY BEAR\"\n",
    "\n",
    "# img_path = r\"D:\\Study\\Trento University Study\\Samester-2\\Deep Learning\\DL\\DL Project\\dataset\\refcocog\\images\\COCO_train2014_000000380440.jpg\"\n",
    "# sentence = \"the man in yellow coat\""
   ],
   "metadata": {
    "collapsed": false,
    "ExecuteTime": {
     "end_time": "2023-08-30T16:34:51.817037900Z",
     "start_time": "2023-08-30T16:34:51.805038500Z"
    }
   },
   "id": "6de9a0f047c7a8a7"
  },
  {
   "cell_type": "code",
   "execution_count": 165,
   "outputs": [
    {
     "name": "stdout",
     "output_type": "stream",
     "text": [
      "Subject or root: ['without']\n",
      "Entities: ['HAIRY BROWN']\n",
      "Entities + Subject: ['HAIRY BROWN', 'without']\n"
     ]
    }
   ],
   "source": [
    "sbj = get_root_or_subject(sentence)\n",
    "print(\"Subject or root:\", sbj)\n",
    "\n",
    "enr = extract_entities(sentence)\n",
    "# enr = ['brown bear', 'soda bottle']\n",
    "print(\"Entities:\", enr)\n",
    "\n",
    "enr = enr + sbj\n",
    "print(\"Entities + Subject:\", enr)"
   ],
   "metadata": {
    "collapsed": false,
    "ExecuteTime": {
     "end_time": "2023-08-30T16:34:52.073920700Z",
     "start_time": "2023-08-30T16:34:52.047921200Z"
    }
   },
   "id": "6dfbaa9e3c721183"
  },
  {
   "cell_type": "code",
   "execution_count": 166,
   "outputs": [
    {
     "data": {
      "text/plain": "([[396.26519775390625,\n   191.4452362060547,\n   578.55126953125,\n   398.91943359375,\n   0.9016379714012146,\n   77.0],\n  [348.9093933105469,\n   301.9761962890625,\n   443.2050476074219,\n   418.247802734375,\n   0.8622263669967651,\n   39.0]],\n ['teddy bear', 'bottle'],\n [0.9016379714012146, 0.8622263669967651])"
     },
     "execution_count": 166,
     "metadata": {},
     "output_type": "execute_result"
    }
   ],
   "source": [
    "res = detect_objects(img_path)\n",
    "res"
   ],
   "metadata": {
    "collapsed": false,
    "ExecuteTime": {
     "end_time": "2023-08-30T16:34:52.527644200Z",
     "start_time": "2023-08-30T16:34:52.418644500Z"
    }
   },
   "id": "a3826f7342c99402"
  },
  {
   "cell_type": "code",
   "execution_count": 167,
   "outputs": [
    {
     "name": "stdout",
     "output_type": "stream",
     "text": [
      "[([348.9093933105469, 301.9761962890625, 443.2050476074219, 418.247802734375, 0.8622263669967651, 39.0], 'bottle', 0.8622263669967651, 0.83349609375), ([396.26519775390625, 191.4452362060547, 578.55126953125, 398.91943359375, 0.9016379714012146, 77.0], 'teddy bear', 0.9016379714012146, 0.8193359375)]\n"
     ]
    },
    {
     "data": {
      "text/plain": "([348.9093933105469,\n  301.9761962890625,\n  443.2050476074219,\n  418.247802734375,\n  0.8622263669967651,\n  39.0],\n 'bottle',\n 0.8622263669967651,\n 0.83349609375)"
     },
     "execution_count": 167,
     "metadata": {},
     "output_type": "execute_result"
    }
   ],
   "source": [
    "filtered_results = filter_detector_predictions(res, sbj)\n",
    "filtered_results"
   ],
   "metadata": {
    "collapsed": false,
    "ExecuteTime": {
     "end_time": "2023-08-30T16:34:53.753931100Z",
     "start_time": "2023-08-30T16:34:53.418933800Z"
    }
   },
   "id": "d71d85dd040e3119"
  },
  {
   "cell_type": "code",
   "execution_count": null,
   "outputs": [],
   "source": [
    "# text to image similarity"
   ],
   "metadata": {
    "collapsed": false
   },
   "id": "50837b4cc995fb15"
  },
  {
   "cell_type": "code",
   "execution_count": null,
   "outputs": [],
   "source": [],
   "metadata": {
    "collapsed": false
   },
   "id": "2d931880bfaeb20f"
  }
 ],
 "metadata": {
  "kernelspec": {
   "display_name": "Python 3",
   "language": "python",
   "name": "python3"
  },
  "language_info": {
   "codemirror_mode": {
    "name": "ipython",
    "version": 2
   },
   "file_extension": ".py",
   "mimetype": "text/x-python",
   "name": "python",
   "nbconvert_exporter": "python",
   "pygments_lexer": "ipython2",
   "version": "2.7.6"
  }
 },
 "nbformat": 4,
 "nbformat_minor": 5
}
